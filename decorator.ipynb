{
 "cells": [
  {
   "cell_type": "code",
   "execution_count": 22,
   "id": "feb5de22-f231-461b-b0a5-3d976da4f17a",
   "metadata": {},
   "outputs": [
    {
     "data": {
      "text/plain": [
       "'hello world'"
      ]
     },
     "execution_count": 22,
     "metadata": {},
     "output_type": "execute_result"
    }
   ],
   "source": [
    "def say_hello():\n",
    "    return \"hello world\"\n",
    "\n",
    "say_hello()"
   ]
  },
  {
   "cell_type": "code",
   "execution_count": 23,
   "id": "b0c9fac8-97ec-49ef-b839-3f76cda157d5",
   "metadata": {},
   "outputs": [
    {
     "data": {
      "text/plain": [
       "'hello leo'"
      ]
     },
     "execution_count": 23,
     "metadata": {},
     "output_type": "execute_result"
    }
   ],
   "source": [
    "def say_hello_to_someone(name):\n",
    "    return f\"hello {name}\"\n",
    "\n",
    "say_hello_to_someone('leo')"
   ]
  },
  {
   "cell_type": "code",
   "execution_count": 24,
   "id": "6dcfefb2-795f-4e93-bb56-cab93a7de0f5",
   "metadata": {},
   "outputs": [
    {
     "data": {
      "text/plain": [
       "'Hello world, How are you?'"
      ]
     },
     "execution_count": 24,
     "metadata": {},
     "output_type": "execute_result"
    }
   ],
   "source": [
    "\"Hello Leo, How are you?\"\n",
    "\"Hello world, How are you?\""
   ]
  },
  {
   "cell_type": "markdown",
   "id": "2c258f4a-c337-4fe6-9317-c3ab86d466cd",
   "metadata": {},
   "source": [
    "- we have a class of functions, we want to add some function to these functions"
   ]
  },
  {
   "cell_type": "code",
   "execution_count": 25,
   "id": "8c05b4aa-2c98-4c39-8337-c988ff78f459",
   "metadata": {},
   "outputs": [
    {
     "data": {
      "text/plain": [
       "'hello world'"
      ]
     },
     "execution_count": 25,
     "metadata": {},
     "output_type": "execute_result"
    }
   ],
   "source": [
    "say_hello()"
   ]
  },
  {
   "cell_type": "code",
   "execution_count": 26,
   "id": "f14e7c2f-5456-4616-b1d4-f742ef23ef4d",
   "metadata": {},
   "outputs": [
    {
     "data": {
      "text/plain": [
       "'Hello World, How are you?'"
      ]
     },
     "execution_count": 26,
     "metadata": {},
     "output_type": "execute_result"
    }
   ],
   "source": [
    "def decorate_say_hello(func):\n",
    "    def new_func():\n",
    "        return func().title() + \", How are you?\"\n",
    "    return new_func\n",
    "\n",
    "new_say_hello = decorate_say_hello(say_hello)\n",
    "\n",
    "new_say_hello()\n",
    "    "
   ]
  },
  {
   "cell_type": "code",
   "execution_count": 29,
   "id": "178f68e0-e35a-438e-8e44-7a0ed9385a5b",
   "metadata": {},
   "outputs": [
    {
     "data": {
      "text/plain": [
       "'Hello Leo, How are you?'"
      ]
     },
     "execution_count": 29,
     "metadata": {},
     "output_type": "execute_result"
    }
   ],
   "source": [
    "def decorate_say_hello(func, name):\n",
    "    def new_func(name):\n",
    "        return func(name).title() + \", How are you?\"\n",
    "    return new_func\n",
    "\n",
    "new_say_hello = decorate_say_hello(say_hello_to_someone,'adam')\n",
    "\n",
    "new_say_hello('leo')"
   ]
  },
  {
   "cell_type": "code",
   "execution_count": 30,
   "id": "9aea0830-9785-4433-8a23-31e2a9be18f7",
   "metadata": {},
   "outputs": [
    {
     "data": {
      "text/plain": [
       "'Hello Leo, How are you?'"
      ]
     },
     "execution_count": 30,
     "metadata": {},
     "output_type": "execute_result"
    }
   ],
   "source": [
    "def decorate_say_hello(func):\n",
    "    def new_func(name):\n",
    "        return func(name).title() + \", How are you?\"\n",
    "    return new_func\n",
    "\n",
    "@decorate_say_hello\n",
    "def say_hello_to_someone(name):\n",
    "    return f\"hello {name}\"\n",
    "\n",
    "new_say_hello('leo')"
   ]
  },
  {
   "cell_type": "code",
   "execution_count": 35,
   "id": "33a58c2f-d32d-47a7-877a-f50a8a2d6327",
   "metadata": {},
   "outputs": [
    {
     "data": {
      "text/plain": [
       "'Hello Adam And Leo And Francesco, How are you?'"
      ]
     },
     "execution_count": 35,
     "metadata": {},
     "output_type": "execute_result"
    }
   ],
   "source": [
    "@decorate_say_hello\n",
    "def say_hello_to_people(names):\n",
    "    return f\"hello {names[0]} and {names[1]} and {names[2]}\"\n",
    "\n",
    "say_hello_to_people(['adam','leo', 'francesco'])"
   ]
  },
  {
   "cell_type": "code",
   "execution_count": null,
   "id": "d77fe98e-c793-4e67-ba2f-76e462427a3e",
   "metadata": {},
   "outputs": [],
   "source": []
  }
 ],
 "metadata": {
  "kernelspec": {
   "display_name": "Python (base)",
   "language": "python",
   "name": "base"
  },
  "language_info": {
   "codemirror_mode": {
    "name": "ipython",
    "version": 3
   },
   "file_extension": ".py",
   "mimetype": "text/x-python",
   "name": "python",
   "nbconvert_exporter": "python",
   "pygments_lexer": "ipython3",
   "version": "3.11.9"
  }
 },
 "nbformat": 4,
 "nbformat_minor": 5
}
