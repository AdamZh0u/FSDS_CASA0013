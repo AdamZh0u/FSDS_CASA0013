{
 "cells": [
  {
   "cell_type": "code",
   "execution_count": 1,
   "id": "936a5893-f8fe-439f-a690-bbbd2dca8def",
   "metadata": {},
   "outputs": [
    {
     "name": "stdout",
     "output_type": "stream",
     "text": [
      "8.666666666666666\n",
      "1\n",
      "[]\n"
     ]
    }
   ],
   "source": [
    "data    = [1,25,-4,14,7,9]\n",
    "total   = 1\n",
    "numbers = []\n",
    "\n",
    "def calc_mean(numbers):\n",
    "  total = 0.0\n",
    "  count = len(numbers)\n",
    "  for i in numbers:\n",
    "    total += i\n",
    "  return total/count\n",
    "\n",
    "print(calc_mean(data))\n",
    "\n",
    "# Why haven't these changed????\n",
    "print(total)\n",
    "print(numbers)"
   ]
  },
  {
   "cell_type": "markdown",
   "id": "2526f232-6097-4ffc-8650-3cbf8ac82057",
   "metadata": {},
   "source": [
    "## formatted string "
   ]
  },
  {
   "cell_type": "code",
   "execution_count": 22,
   "id": "a0a38e19-d396-4ba0-8bb3-b9ad8519a95f",
   "metadata": {},
   "outputs": [
    {
     "name": "stdout",
     "output_type": "stream",
     "text": [
      "1212.0000%\n"
     ]
    }
   ],
   "source": [
    "x = 12.12\n",
    "\n",
    "print(f\"{x:2.4%}\")"
   ]
  },
  {
   "cell_type": "code",
   "execution_count": 36,
   "id": "09ad2b75-0b6f-446c-b5fc-421b2f2cdf0a",
   "metadata": {},
   "outputs": [
    {
     "name": "stdout",
     "output_type": "stream",
     "text": [
      "12.1200000\n"
     ]
    }
   ],
   "source": [
    "print(f\"{x:<010}\")"
   ]
  },
  {
   "cell_type": "code",
   "execution_count": 28,
   "id": "189f9f5c-5c8c-4741-8ad3-9dd84b288293",
   "metadata": {},
   "outputs": [
    {
     "name": "stdout",
     "output_type": "stream",
     "text": [
      "1 2\n"
     ]
    },
    {
     "data": {
      "text/plain": [
       "3"
      ]
     },
     "execution_count": 28,
     "metadata": {},
     "output_type": "execute_result"
    }
   ],
   "source": [
    "def decorater(func):\n",
    "    def new_func(a,b):\n",
    "        print(a , b)\n",
    "        return func(a,b) + 1\n",
    "    return new_func\n",
    "\n",
    "@decorater\n",
    "def add(c,d):\n",
    "    return c+d\n",
    "\n",
    "@decorater\n",
    "def times(c, d):\n",
    "    return c*d\n",
    "\n",
    "# add(1,2)\n",
    "times(1,2)"
   ]
  },
  {
   "cell_type": "code",
   "execution_count": 32,
   "id": "8febd38a-8903-4e20-ac14-69b489bb0d28",
   "metadata": {},
   "outputs": [
    {
     "name": "stdout",
     "output_type": "stream",
     "text": [
      "1 2\n",
      "1 2\n"
     ]
    },
    {
     "data": {
      "text/plain": [
       "5"
      ]
     },
     "execution_count": 32,
     "metadata": {},
     "output_type": "execute_result"
    }
   ],
   "source": [
    "decorater(add)(1,2)"
   ]
  },
  {
   "cell_type": "code",
   "execution_count": 39,
   "id": "09881466-9141-4a76-8e19-b34ff27d5d3f",
   "metadata": {},
   "outputs": [],
   "source": [
    "name = \"adam\"\n",
    "number = 13"
   ]
  },
  {
   "cell_type": "code",
   "execution_count": 46,
   "id": "1455cd4a-2536-4924-a3e4-34d7de8ccc2a",
   "metadata": {},
   "outputs": [
    {
     "data": {
      "text/plain": [
       "'I am 1300.00%'"
      ]
     },
     "execution_count": 46,
     "metadata": {},
     "output_type": "execute_result"
    }
   ],
   "source": [
    "f\"I am {number:2.2%}\""
   ]
  },
  {
   "cell_type": "code",
   "execution_count": null,
   "id": "4ab51f7f-03fc-44fc-a98a-71cbaa25c760",
   "metadata": {},
   "outputs": [],
   "source": []
  },
  {
   "cell_type": "code",
   "execution_count": null,
   "id": "f5d1e077-c345-4e0c-889c-609c009806f8",
   "metadata": {},
   "outputs": [],
   "source": []
  },
  {
   "cell_type": "code",
   "execution_count": null,
   "id": "0a141913-0007-465d-8a27-c0d08686e2da",
   "metadata": {},
   "outputs": [],
   "source": []
  },
  {
   "cell_type": "code",
   "execution_count": null,
   "id": "9922e800-0903-4b6e-9f0b-be42d9420440",
   "metadata": {},
   "outputs": [],
   "source": []
  },
  {
   "cell_type": "code",
   "execution_count": null,
   "id": "7db5084e-8f56-4fe4-97f7-48ee00a41411",
   "metadata": {},
   "outputs": [],
   "source": []
  },
  {
   "cell_type": "code",
   "execution_count": null,
   "id": "74c65b1d-2f98-4580-9681-c4c4247e3e57",
   "metadata": {},
   "outputs": [],
   "source": []
  },
  {
   "cell_type": "code",
   "execution_count": 51,
   "id": "be035a79-712d-4897-bcba-60a5d186bdc1",
   "metadata": {},
   "outputs": [],
   "source": [
    "def old_func(name):\n",
    "  return(f'hello {name}')"
   ]
  },
  {
   "cell_type": "code",
   "execution_count": 53,
   "id": "04904f1d-9347-4ad0-a0e9-01f413c13712",
   "metadata": {},
   "outputs": [
    {
     "data": {
      "text/plain": [
       "'hello leo'"
      ]
     },
     "execution_count": 53,
     "metadata": {},
     "output_type": "execute_result"
    }
   ],
   "source": [
    "old_func('leo')"
   ]
  },
  {
   "cell_type": "code",
   "execution_count": 62,
   "id": "2bb1dbd3-049a-417b-8ef2-b41825c67391",
   "metadata": {},
   "outputs": [
    {
     "data": {
      "text/plain": [
       "'Hello'"
      ]
     },
     "execution_count": 62,
     "metadata": {},
     "output_type": "execute_result"
    }
   ],
   "source": [
    "\"hello\".title()"
   ]
  },
  {
   "cell_type": "code",
   "execution_count": null,
   "id": "f2c7fcca-85e3-4082-829e-f3be1188276d",
   "metadata": {},
   "outputs": [],
   "source": []
  },
  {
   "cell_type": "code",
   "execution_count": 59,
   "id": "e9dc739c-b086-48d4-a5c3-4bebdb66d05e",
   "metadata": {},
   "outputs": [],
   "source": [
    "def deco(func):\n",
    "  def new_func(name):\n",
    "    return func(name).title() + \"!\"\n",
    "  return new_func\n",
    "\n",
    "@deco\n",
    "def hello(name):\n",
    "  return(f'hello {name}')\n"
   ]
  },
  {
   "cell_type": "code",
   "execution_count": 61,
   "id": "459c49ae-3c04-41c3-9a2c-f76ed91e6f11",
   "metadata": {},
   "outputs": [
    {
     "data": {
      "text/plain": [
       "'Hello Name!'"
      ]
     },
     "execution_count": 61,
     "metadata": {},
     "output_type": "execute_result"
    }
   ],
   "source": [
    "hello(\"name\")"
   ]
  },
  {
   "cell_type": "code",
   "execution_count": 110,
   "id": "b37de027-54f6-4a80-9d63-2892f959388e",
   "metadata": {},
   "outputs": [],
   "source": [
    "def cowsay(sents):\n",
    "    x =  f\"\"\" \n",
    "         ______________________________________\n",
    "        / {sents} \\ \n",
    "         --------------------------------------\n",
    "                \\   ^__^\n",
    "                 \\  (oo)\\_______\n",
    "                    (__)\\       )\\/\\ \n",
    "                        ||----w |\n",
    "                        ||     ||\n",
    "        \"\"\"\n",
    "    return x"
   ]
  },
  {
   "cell_type": "code",
   "execution_count": 111,
   "id": "6b94e174-8796-4a2e-a2ba-6d00a69d76c0",
   "metadata": {},
   "outputs": [],
   "source": [
    "def fortune():\n",
    "    return \"You need no longer worry about the\""
   ]
  },
  {
   "cell_type": "code",
   "execution_count": 123,
   "id": "a6ea027e-a7e7-4c4c-af35-49b244125c88",
   "metadata": {},
   "outputs": [],
   "source": [
    "def color(text):\n",
    "    return '\\033[2;37;40m' + text"
   ]
  },
  {
   "cell_type": "code",
   "execution_count": 124,
   "id": "72e28adc-be42-4c81-81b4-e28ffcd129dc",
   "metadata": {},
   "outputs": [
    {
     "name": "stdout",
     "output_type": "stream",
     "text": [
      "\u001b[2;37;40m \n",
      "         ______________________________________\n",
      "        / You need no longer worry about the \\ \n",
      "         --------------------------------------\n",
      "                \\   ^__^\n",
      "                 \\  (oo)\\_______\n",
      "                    (__)\\       )\\/\\ \n",
      "                        ||----w |\n",
      "                        ||     ||\n",
      "        \n"
     ]
    }
   ],
   "source": [
    "print(color(cowsay(fortune())))"
   ]
  },
  {
   "cell_type": "code",
   "execution_count": null,
   "id": "907552aa-05c3-4915-b75d-5a66b7f87191",
   "metadata": {},
   "outputs": [],
   "source": []
  },
  {
   "cell_type": "code",
   "execution_count": null,
   "id": "4ef3d016-e26d-4ccf-9b0a-232a9c2b436f",
   "metadata": {},
   "outputs": [],
   "source": [
    "1. old func\n",
    "2. func returning a func\n",
    "3. new func"
   ]
  },
  {
   "cell_type": "code",
   "execution_count": 68,
   "id": "217cc757-bb7f-4372-83f6-e88ecf73ef51",
   "metadata": {},
   "outputs": [],
   "source": [
    "def add1(add, a, b ):\n",
    "    return add(a,b) + 1"
   ]
  },
  {
   "cell_type": "code",
   "execution_count": 71,
   "id": "65b08373-70de-4c75-ae5d-9561fa6377ec",
   "metadata": {},
   "outputs": [
    {
     "name": "stdout",
     "output_type": "stream",
     "text": [
      "pos 2\n"
     ]
    },
    {
     "data": {
      "text/plain": [
       "4"
      ]
     },
     "execution_count": 71,
     "metadata": {},
     "output_type": "execute_result"
    }
   ],
   "source": [
    "add1(add,1,1 )"
   ]
  },
  {
   "cell_type": "code",
   "execution_count": 72,
   "id": "ca592fa6-6641-400e-9228-98d351b1989e",
   "metadata": {},
   "outputs": [],
   "source": [
    "def decorator(func):\n",
    "    print(\"pos 1\")\n",
    "    def new_func(a,b):\n",
    "        print(\"pos 2\")\n",
    "        return func(a,b) + 1\n",
    "    print(\"pos 3\")\n",
    "    return new_func"
   ]
  },
  {
   "cell_type": "code",
   "execution_count": 73,
   "id": "74b275f9-db7d-4ce1-928c-9552bdb93293",
   "metadata": {},
   "outputs": [
    {
     "name": "stdout",
     "output_type": "stream",
     "text": [
      "pos 1\n",
      "pos 3\n",
      "pos 1\n",
      "pos 3\n",
      "pos 1\n",
      "pos 3\n"
     ]
    }
   ],
   "source": [
    "@decorator\n",
    "def add(a,b):\n",
    "    return a + b\n",
    "\n",
    "@decorator\n",
    "def minus(a,b):\n",
    "    return a - b\n",
    "\n",
    "@decorator\n",
    "def times(a,b):\n",
    "    return a * b"
   ]
  },
  {
   "cell_type": "code",
   "execution_count": 74,
   "id": "bae78ef5-574e-4eef-b7e6-01595934ae55",
   "metadata": {},
   "outputs": [
    {
     "name": "stdout",
     "output_type": "stream",
     "text": [
      "pos 2\n"
     ]
    },
    {
     "data": {
      "text/plain": [
       "4"
      ]
     },
     "execution_count": 74,
     "metadata": {},
     "output_type": "execute_result"
    }
   ],
   "source": [
    "add(1,2)"
   ]
  },
  {
   "cell_type": "code",
   "execution_count": null,
   "id": "3396f203-b743-46ec-ad53-c7cf1c876526",
   "metadata": {},
   "outputs": [],
   "source": [
    "1. 必须在一个函数内\n",
    "2. rename \n",
    "3. if you want to pass arguments "
   ]
  },
  {
   "cell_type": "code",
   "execution_count": 95,
   "id": "1b2a738b-974a-40c0-9913-823325196512",
   "metadata": {},
   "outputs": [],
   "source": [
    "def fn(some_func):\n",
    "    def call_twice():\n",
    "        some_func()\n",
    "        some_func()\n",
    "    return call_twice \n",
    "\n",
    "def hello(a,b):\n",
    "    print(\"hello world \" + str(a))\n",
    "\n",
    "hello = fn(hello)"
   ]
  },
  {
   "cell_type": "code",
   "execution_count": 94,
   "id": "fa71d66c-4c1e-4ca5-b7b8-298ecd624194",
   "metadata": {},
   "outputs": [
    {
     "name": "stdout",
     "output_type": "stream",
     "text": [
      "hello world 1\n",
      "hello world 1\n"
     ]
    }
   ],
   "source": [
    "def fn(some_func, a,  b):\n",
    "    def call_twice():\n",
    "        some_func(a,b)\n",
    "        some_func(a,b)\n",
    "    return call_twice \n",
    "\n",
    "def hello(a,b):\n",
    "    print(\"hello world \" + str(a))\n",
    "\n",
    "hello = fn(hello, 1,2 )\n",
    "\n",
    "hello()"
   ]
  },
  {
   "cell_type": "code",
   "execution_count": 81,
   "id": "b39b237e-594f-4f3d-bc04-fd9294a5213f",
   "metadata": {},
   "outputs": [],
   "source": [
    "def fn(some_func):\n",
    "    return some_func"
   ]
  },
  {
   "cell_type": "code",
   "execution_count": 80,
   "id": "4c98552f-c750-43a7-865a-ce114add678e",
   "metadata": {},
   "outputs": [
    {
     "data": {
      "text/plain": [
       "(<method-wrapper '__str__' of builtin_function_or_method object at 0xffffb3649670>,\n",
       " builtin_function_or_method)"
      ]
     },
     "execution_count": 80,
     "metadata": {},
     "output_type": "execute_result"
    }
   ],
   "source": [
    "fn(print)"
   ]
  },
  {
   "cell_type": "code",
   "execution_count": null,
   "id": "16425527-2106-4f16-9c3a-b536e4728c51",
   "metadata": {},
   "outputs": [],
   "source": []
  }
 ],
 "metadata": {
  "kernelspec": {
   "display_name": "Python (base)",
   "language": "python",
   "name": "base"
  },
  "language_info": {
   "codemirror_mode": {
    "name": "ipython",
    "version": 3
   },
   "file_extension": ".py",
   "mimetype": "text/x-python",
   "name": "python",
   "nbconvert_exporter": "python",
   "pygments_lexer": "ipython3",
   "version": "3.11.9"
  }
 },
 "nbformat": 4,
 "nbformat_minor": 5
}
