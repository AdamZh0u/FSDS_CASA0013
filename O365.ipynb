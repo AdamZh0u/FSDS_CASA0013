{
 "cells": [
  {
   "cell_type": "code",
   "execution_count": 1,
   "id": "a6b8598d-6013-4dee-8fdf-49da911bfe01",
   "metadata": {},
   "outputs": [
    {
     "name": "stdout",
     "output_type": "stream",
     "text": [
      "Collecting O365\n",
      "  Downloading O365-2.0.36-py3-none-any.whl.metadata (68 kB)\n",
      "Requirement already satisfied: requests>=2.18.0 in /opt/conda/lib/python3.11/site-packages (from O365) (2.32.3)\n",
      "Collecting requests-oauthlib>=2.0.0 (from O365)\n",
      "  Downloading requests_oauthlib-2.0.0-py2.py3-none-any.whl.metadata (11 kB)\n",
      "Requirement already satisfied: python-dateutil>=2.7 in /opt/conda/lib/python3.11/site-packages (from O365) (2.9.0)\n",
      "Requirement already satisfied: tzlocal>=5.0 in /opt/conda/lib/python3.11/site-packages (from O365) (5.2)\n",
      "Requirement already satisfied: beautifulsoup4>=4.0.0 in /opt/conda/lib/python3.11/site-packages (from O365) (4.12.3)\n",
      "Requirement already satisfied: tzdata>=2023.4 in /opt/conda/lib/python3.11/site-packages (from O365) (2024.1)\n",
      "Requirement already satisfied: soupsieve>1.2 in /opt/conda/lib/python3.11/site-packages (from beautifulsoup4>=4.0.0->O365) (2.5)\n",
      "Requirement already satisfied: six>=1.5 in /opt/conda/lib/python3.11/site-packages (from python-dateutil>=2.7->O365) (1.16.0)\n",
      "Requirement already satisfied: charset-normalizer<4,>=2 in /opt/conda/lib/python3.11/site-packages (from requests>=2.18.0->O365) (3.3.2)\n",
      "Requirement already satisfied: idna<4,>=2.5 in /opt/conda/lib/python3.11/site-packages (from requests>=2.18.0->O365) (3.8)\n",
      "Requirement already satisfied: urllib3<3,>=1.21.1 in /opt/conda/lib/python3.11/site-packages (from requests>=2.18.0->O365) (2.2.2)\n",
      "Requirement already satisfied: certifi>=2017.4.17 in /opt/conda/lib/python3.11/site-packages (from requests>=2.18.0->O365) (2024.8.30)\n",
      "Requirement already satisfied: oauthlib>=3.0.0 in /opt/conda/lib/python3.11/site-packages (from requests-oauthlib>=2.0.0->O365) (3.2.2)\n",
      "Downloading O365-2.0.36-py3-none-any.whl (157 kB)\n",
      "Downloading requests_oauthlib-2.0.0-py2.py3-none-any.whl (24 kB)\n",
      "Installing collected packages: requests-oauthlib, O365\n",
      "Successfully installed O365-2.0.36 requests-oauthlib-2.0.0\n"
     ]
    }
   ],
   "source": [
    "!pip install O365"
   ]
  },
  {
   "cell_type": "code",
   "execution_count": null,
   "id": "bb1e5c64-e74d-465b-824b-1ccdb843a9ea",
   "metadata": {},
   "outputs": [
    {
     "name": "stdout",
     "output_type": "stream",
     "text": [
      "Visit the following url to give consent:\n",
      "https://login.microsoftonline.com/common/oauth2/v2.0/authorize?response_type=code&client_id=ce16ab3d-a1de-4f1e-a406-e83f2bf875a8&redirect_uri=https%3A%2F%2Flogin.microsoftonline.com%2Fcommon%2Foauth2%2Fnativeclient&scope=https%3A%2F%2Fgraph.microsoft.com%2FMail.Send+https%3A%2F%2Fgraph.microsoft.com%2FMail.Read&state=jqwW7OQHQTW1he0ugKjXW6DSMW9NnL&access_type=offline\n"
     ]
    }
   ],
   "source": [
    "from O365 import *\n",
    "o365_auth = ('ce16ab3d-a1de-4f1e-a406-e83f2bf875a8', 'Zzz40119(__UCl')\n",
    "my_protocol = MSGraphProtocol(api_version='beta')\n",
    "account = Account(\n",
    "    credentials=o365_auth,\n",
    "    protocol=my_protocol\n",
    ")\n",
    "if not account.is_authenticated:  # will check if there is a token and has not expired\n",
    "    # ask for a login\n",
    "    account.authenticate(scopes=['mailbox', 'message_send'])\n",
    "\n",
    "msg = Message(parent=account)\n",
    "msg.body = 'Hi, foobar.'\n",
    "msg.subject = 'Bar Foo'\n",
    "\n",
    "msg.to.add('zhouzz400@gmail.com')\n",
    "\n",
    "msg.send()"
   ]
  },
  {
   "cell_type": "code",
   "execution_count": 8,
   "id": "b2ec4c82-3fef-4831-8671-f6fd75877b48",
   "metadata": {},
   "outputs": [
    {
     "ename": "AttributeError",
     "evalue": "'Message' object has no attribute 'setRecipients'",
     "output_type": "error",
     "traceback": [
      "\u001b[0;31m---------------------------------------------------------------------------\u001b[0m",
      "\u001b[0;31mAttributeError\u001b[0m                            Traceback (most recent call last)",
      "Cell \u001b[0;32mIn[8], line 7\u001b[0m\n\u001b[1;32m      5\u001b[0m o365_auth \u001b[38;5;241m=\u001b[39m (\u001b[38;5;124m'\u001b[39m\u001b[38;5;124mucfnhou@ucl.ac.uk\u001b[39m\u001b[38;5;124m'\u001b[39m, \u001b[38;5;124m'\u001b[39m\u001b[38;5;124mZzz40119(__UCl\u001b[39m\u001b[38;5;124m'\u001b[39m)\n\u001b[1;32m      6\u001b[0m m \u001b[38;5;241m=\u001b[39m Message(auth\u001b[38;5;241m=\u001b[39mo365_auth, protocol\u001b[38;5;241m=\u001b[39mprotocol)\n\u001b[0;32m----> 7\u001b[0m \u001b[43mm\u001b[49m\u001b[38;5;241;43m.\u001b[39;49m\u001b[43msetRecipients\u001b[49m(\u001b[38;5;124m'\u001b[39m\u001b[38;5;124mzhouzz400@gmail.com\u001b[39m\u001b[38;5;124m'\u001b[39m)\n\u001b[1;32m      8\u001b[0m m\u001b[38;5;241m.\u001b[39msetSubject(\u001b[38;5;124m'\u001b[39m\u001b[38;5;124mTest\u001b[39m\u001b[38;5;124m'\u001b[39m)\n\u001b[1;32m      9\u001b[0m m\u001b[38;5;241m.\u001b[39msetBody(\u001b[38;5;124m'\u001b[39m\u001b[38;5;124mTest\u001b[39m\u001b[38;5;124m'\u001b[39m)\n",
      "\u001b[0;31mAttributeError\u001b[0m: 'Message' object has no attribute 'setRecipients'"
     ]
    }
   ],
   "source": [
    "from O365 import Message, MSGraphProtocol\n",
    "\n",
    "protocol = MSGraphProtocol()\n",
    "\n",
    "\n",
    "m = Message(auth=o365_auth, protocol=protocol)\n",
    "m.setRecipients('zhouzz400@gmail.com')\n",
    "m.setSubject('Test')\n",
    "m.setBody('Test')\n",
    "m.sendMessage()"
   ]
  },
  {
   "cell_type": "code",
   "execution_count": 6,
   "id": "f2f42f38-2f8c-434f-95b0-d354f3258f1d",
   "metadata": {},
   "outputs": [
    {
     "ename": "ValueError",
     "evalue": "Protocol not provided to Api Component",
     "output_type": "error",
     "traceback": [
      "\u001b[0;31m---------------------------------------------------------------------------\u001b[0m",
      "\u001b[0;31mValueError\u001b[0m                                Traceback (most recent call last)",
      "Cell \u001b[0;32mIn[6], line 3\u001b[0m\n\u001b[1;32m      1\u001b[0m \u001b[38;5;28;01mfrom\u001b[39;00m \u001b[38;5;21;01mO365\u001b[39;00m \u001b[38;5;28;01mimport\u001b[39;00m Message\n\u001b[1;32m      2\u001b[0m o365_auth \u001b[38;5;241m=\u001b[39m (\u001b[38;5;124m'\u001b[39m\u001b[38;5;124mucfnhou@ucl.ac.uk\u001b[39m\u001b[38;5;124m'\u001b[39m, \u001b[38;5;124m'\u001b[39m\u001b[38;5;124mZzz40119(__UCl\u001b[39m\u001b[38;5;124m'\u001b[39m)\n\u001b[0;32m----> 3\u001b[0m m \u001b[38;5;241m=\u001b[39m \u001b[43mMessage\u001b[49m\u001b[43m(\u001b[49m\u001b[43mauth\u001b[49m\u001b[38;5;241;43m=\u001b[39;49m\u001b[43mo365_auth\u001b[49m\u001b[43m)\u001b[49m\n\u001b[1;32m      4\u001b[0m m\u001b[38;5;241m.\u001b[39msetRecipients(\u001b[38;5;124m'\u001b[39m\u001b[38;5;124mreciving@office365.com\u001b[39m\u001b[38;5;124m'\u001b[39m)\n\u001b[1;32m      5\u001b[0m m\u001b[38;5;241m.\u001b[39msetSubject(\u001b[38;5;124m'\u001b[39m\u001b[38;5;124mI made an email script.\u001b[39m\u001b[38;5;124m'\u001b[39m)\n",
      "File \u001b[0;32m/opt/conda/lib/python3.11/site-packages/O365/message.py:254\u001b[0m, in \u001b[0;36mMessage.__init__\u001b[0;34m(self, parent, con, **kwargs)\u001b[0m\n\u001b[1;32m    250\u001b[0m \u001b[38;5;66;03m# Choose the main_resource passed in kwargs over parent main_resource\u001b[39;00m\n\u001b[1;32m    251\u001b[0m main_resource \u001b[38;5;241m=\u001b[39m kwargs\u001b[38;5;241m.\u001b[39mpop(\u001b[38;5;124m'\u001b[39m\u001b[38;5;124mmain_resource\u001b[39m\u001b[38;5;124m'\u001b[39m, \u001b[38;5;28;01mNone\u001b[39;00m) \u001b[38;5;129;01mor\u001b[39;00m (\n\u001b[1;32m    252\u001b[0m     \u001b[38;5;28mgetattr\u001b[39m(parent, \u001b[38;5;124m'\u001b[39m\u001b[38;5;124mmain_resource\u001b[39m\u001b[38;5;124m'\u001b[39m, \u001b[38;5;28;01mNone\u001b[39;00m) \u001b[38;5;28;01mif\u001b[39;00m parent \u001b[38;5;28;01melse\u001b[39;00m \u001b[38;5;28;01mNone\u001b[39;00m)\n\u001b[0;32m--> 254\u001b[0m \u001b[38;5;28;43msuper\u001b[39;49m\u001b[43m(\u001b[49m\u001b[43m)\u001b[49m\u001b[38;5;241;43m.\u001b[39;49m\u001b[38;5;21;43m__init__\u001b[39;49m\u001b[43m(\u001b[49m\n\u001b[1;32m    255\u001b[0m \u001b[43m    \u001b[49m\u001b[43mprotocol\u001b[49m\u001b[38;5;241;43m=\u001b[39;49m\u001b[43mparent\u001b[49m\u001b[38;5;241;43m.\u001b[39;49m\u001b[43mprotocol\u001b[49m\u001b[43m \u001b[49m\u001b[38;5;28;43;01mif\u001b[39;49;00m\u001b[43m \u001b[49m\u001b[43mparent\u001b[49m\u001b[43m \u001b[49m\u001b[38;5;28;43;01melse\u001b[39;49;00m\u001b[43m \u001b[49m\u001b[43mkwargs\u001b[49m\u001b[38;5;241;43m.\u001b[39;49m\u001b[43mget\u001b[49m\u001b[43m(\u001b[49m\u001b[38;5;124;43m'\u001b[39;49m\u001b[38;5;124;43mprotocol\u001b[39;49m\u001b[38;5;124;43m'\u001b[39;49m\u001b[43m)\u001b[49m\u001b[43m,\u001b[49m\n\u001b[1;32m    256\u001b[0m \u001b[43m    \u001b[49m\u001b[43mmain_resource\u001b[49m\u001b[38;5;241;43m=\u001b[39;49m\u001b[43mmain_resource\u001b[49m\u001b[43m,\u001b[49m\n\u001b[1;32m    257\u001b[0m \u001b[43m    \u001b[49m\u001b[43mattachment_name_property\u001b[49m\u001b[38;5;241;43m=\u001b[39;49m\u001b[38;5;124;43m'\u001b[39;49m\u001b[38;5;124;43msubject\u001b[39;49m\u001b[38;5;124;43m'\u001b[39;49m\u001b[43m,\u001b[49m\u001b[43m \u001b[49m\u001b[43mattachment_type\u001b[49m\u001b[38;5;241;43m=\u001b[39;49m\u001b[38;5;124;43m'\u001b[39;49m\u001b[38;5;124;43mmessage_type\u001b[39;49m\u001b[38;5;124;43m'\u001b[39;49m\u001b[43m)\u001b[49m\n\u001b[1;32m    259\u001b[0m download_attachments \u001b[38;5;241m=\u001b[39m kwargs\u001b[38;5;241m.\u001b[39mget(\u001b[38;5;124m'\u001b[39m\u001b[38;5;124mdownload_attachments\u001b[39m\u001b[38;5;124m'\u001b[39m)\n\u001b[1;32m    261\u001b[0m cloud_data \u001b[38;5;241m=\u001b[39m kwargs\u001b[38;5;241m.\u001b[39mget(\u001b[38;5;28mself\u001b[39m\u001b[38;5;241m.\u001b[39m_cloud_data_key, {})\n",
      "File \u001b[0;32m/opt/conda/lib/python3.11/site-packages/O365/utils/utils.py:342\u001b[0m, in \u001b[0;36mApiComponent.__init__\u001b[0;34m(self, protocol, main_resource, **kwargs)\u001b[0m\n\u001b[1;32m    340\u001b[0m \u001b[38;5;28mself\u001b[39m\u001b[38;5;241m.\u001b[39mprotocol \u001b[38;5;241m=\u001b[39m protocol() \u001b[38;5;28;01mif\u001b[39;00m \u001b[38;5;28misinstance\u001b[39m(protocol, \u001b[38;5;28mtype\u001b[39m) \u001b[38;5;28;01melse\u001b[39;00m protocol\n\u001b[1;32m    341\u001b[0m \u001b[38;5;28;01mif\u001b[39;00m \u001b[38;5;28mself\u001b[39m\u001b[38;5;241m.\u001b[39mprotocol \u001b[38;5;129;01mis\u001b[39;00m \u001b[38;5;28;01mNone\u001b[39;00m:\n\u001b[0;32m--> 342\u001b[0m     \u001b[38;5;28;01mraise\u001b[39;00m \u001b[38;5;167;01mValueError\u001b[39;00m(\u001b[38;5;124m'\u001b[39m\u001b[38;5;124mProtocol not provided to Api Component\u001b[39m\u001b[38;5;124m'\u001b[39m)\n\u001b[1;32m    343\u001b[0m mr, bu \u001b[38;5;241m=\u001b[39m \u001b[38;5;28mself\u001b[39m\u001b[38;5;241m.\u001b[39mbuild_base_url(main_resource)\n\u001b[1;32m    344\u001b[0m \u001b[38;5;28mself\u001b[39m\u001b[38;5;241m.\u001b[39mmain_resource \u001b[38;5;241m=\u001b[39m mr\n",
      "\u001b[0;31mValueError\u001b[0m: Protocol not provided to Api Component"
     ]
    }
   ],
   "source": [
    "from O365 import Message\n",
    "\n",
    "m = Message(auth=o365_auth)\n",
    "m.setRecipients('reciving@office365.com')\n",
    "m.setSubject('I made an email script.')\n",
    "m.setBody('Talk to the computer, cause the human does not want to hear it any more.')\n",
    "m.sendMessage()"
   ]
  },
  {
   "cell_type": "code",
   "execution_count": 5,
   "id": "d51f2036-7e60-4962-a90d-6b7e1d05c2c8",
   "metadata": {},
   "outputs": [
    {
     "name": "stdout",
     "output_type": "stream",
     "text": [
      "Visit the following url to give consent:\n",
      "https://login.microsoftonline.com/common/oauth2/v2.0/authorize?response_type=code&client_id=ucfnhou%40ucl.ac.uk&redirect_uri=https%3A%2F%2Flogin.microsoftonline.com%2Fcommon%2Foauth2%2Fnativeclient&scope=https%3A%2F%2Fgraph.microsoft.com%2FMail.Send+https%3A%2F%2Fgraph.microsoft.com%2FUser.Read+offline_access+https%3A%2F%2Fgraph.microsoft.com%2FMail.ReadWrite&state=h1s0o7HikHIpb2vr8BQSp7TzFy26Rv&access_type=offline\n"
     ]
    },
    {
     "ename": "KeyboardInterrupt",
     "evalue": "Interrupted by user",
     "output_type": "error",
     "traceback": [
      "\u001b[0;31m---------------------------------------------------------------------------\u001b[0m",
      "\u001b[0;31mKeyboardInterrupt\u001b[0m                         Traceback (most recent call last)",
      "Cell \u001b[0;32mIn[5], line 6\u001b[0m\n\u001b[1;32m      4\u001b[0m credentials \u001b[38;5;241m=\u001b[39m (\u001b[38;5;124m'\u001b[39m\u001b[38;5;124mucfnhou@ucl.ac.uk\u001b[39m\u001b[38;5;124m'\u001b[39m, \u001b[38;5;124m'\u001b[39m\u001b[38;5;124mZzz40119(__UCl\u001b[39m\u001b[38;5;124m'\u001b[39m)\n\u001b[1;32m      5\u001b[0m account \u001b[38;5;241m=\u001b[39m Account(credentials)\n\u001b[0;32m----> 6\u001b[0m \u001b[43maccount\u001b[49m\u001b[38;5;241;43m.\u001b[39;49m\u001b[43mauthenticate\u001b[49m\u001b[43m(\u001b[49m\u001b[43mscopes\u001b[49m\u001b[38;5;241;43m=\u001b[39;49m\u001b[43m[\u001b[49m\u001b[38;5;124;43m'\u001b[39;49m\u001b[38;5;124;43mbasic\u001b[39;49m\u001b[38;5;124;43m'\u001b[39;49m\u001b[43m,\u001b[49m\u001b[43m \u001b[49m\u001b[38;5;124;43m'\u001b[39;49m\u001b[38;5;124;43mmessage_all\u001b[39;49m\u001b[38;5;124;43m'\u001b[39;49m\u001b[43m]\u001b[49m\u001b[43m)\u001b[49m\n",
      "File \u001b[0;32m/opt/conda/lib/python3.11/site-packages/O365/account.py:108\u001b[0m, in \u001b[0;36mAccount.authenticate\u001b[0;34m(self, scopes, handle_consent, **kwargs)\u001b[0m\n\u001b[1;32m    104\u001b[0m         \u001b[38;5;28;01mraise\u001b[39;00m \u001b[38;5;167;01mValueError\u001b[39;00m(\u001b[38;5;124m'\u001b[39m\u001b[38;5;124mThe scopes are not set. Define the scopes requested.\u001b[39m\u001b[38;5;124m'\u001b[39m)\n\u001b[1;32m    106\u001b[0m consent_url, _ \u001b[38;5;241m=\u001b[39m \u001b[38;5;28mself\u001b[39m\u001b[38;5;241m.\u001b[39mcon\u001b[38;5;241m.\u001b[39mget_authorization_url(\u001b[38;5;241m*\u001b[39m\u001b[38;5;241m*\u001b[39mkwargs)\n\u001b[0;32m--> 108\u001b[0m token_url \u001b[38;5;241m=\u001b[39m \u001b[43mhandle_consent\u001b[49m\u001b[43m(\u001b[49m\u001b[43mconsent_url\u001b[49m\u001b[43m)\u001b[49m\n\u001b[1;32m    110\u001b[0m \u001b[38;5;28;01mif\u001b[39;00m token_url:\n\u001b[1;32m    111\u001b[0m     result \u001b[38;5;241m=\u001b[39m \u001b[38;5;28mself\u001b[39m\u001b[38;5;241m.\u001b[39mcon\u001b[38;5;241m.\u001b[39mrequest_token(token_url, \u001b[38;5;241m*\u001b[39m\u001b[38;5;241m*\u001b[39mkwargs)  \u001b[38;5;66;03m# no need to pass state as the session is the same\u001b[39;00m\n",
      "File \u001b[0;32m/opt/conda/lib/python3.11/site-packages/O365/utils/consent.py:5\u001b[0m, in \u001b[0;36mconsent_input_token\u001b[0;34m(consent_url)\u001b[0m\n\u001b[1;32m      2\u001b[0m \u001b[38;5;28mprint\u001b[39m(\u001b[38;5;124m'\u001b[39m\u001b[38;5;124mVisit the following url to give consent:\u001b[39m\u001b[38;5;124m'\u001b[39m)\n\u001b[1;32m      3\u001b[0m \u001b[38;5;28mprint\u001b[39m(consent_url)\n\u001b[0;32m----> 5\u001b[0m \u001b[38;5;28;01mreturn\u001b[39;00m \u001b[38;5;28;43minput\u001b[39;49m\u001b[43m(\u001b[49m\u001b[38;5;124;43m'\u001b[39;49m\u001b[38;5;124;43mPaste the authenticated url here:\u001b[39;49m\u001b[38;5;130;43;01m\\n\u001b[39;49;00m\u001b[38;5;124;43m'\u001b[39;49m\u001b[43m)\u001b[49m\n",
      "File \u001b[0;32m/opt/conda/lib/python3.11/site-packages/ipykernel/kernelbase.py:1282\u001b[0m, in \u001b[0;36mKernel.raw_input\u001b[0;34m(self, prompt)\u001b[0m\n\u001b[1;32m   1280\u001b[0m     msg \u001b[38;5;241m=\u001b[39m \u001b[38;5;124m\"\u001b[39m\u001b[38;5;124mraw_input was called, but this frontend does not support input requests.\u001b[39m\u001b[38;5;124m\"\u001b[39m\n\u001b[1;32m   1281\u001b[0m     \u001b[38;5;28;01mraise\u001b[39;00m StdinNotImplementedError(msg)\n\u001b[0;32m-> 1282\u001b[0m \u001b[38;5;28;01mreturn\u001b[39;00m \u001b[38;5;28;43mself\u001b[39;49m\u001b[38;5;241;43m.\u001b[39;49m\u001b[43m_input_request\u001b[49m\u001b[43m(\u001b[49m\n\u001b[1;32m   1283\u001b[0m \u001b[43m    \u001b[49m\u001b[38;5;28;43mstr\u001b[39;49m\u001b[43m(\u001b[49m\u001b[43mprompt\u001b[49m\u001b[43m)\u001b[49m\u001b[43m,\u001b[49m\n\u001b[1;32m   1284\u001b[0m \u001b[43m    \u001b[49m\u001b[38;5;28;43mself\u001b[39;49m\u001b[38;5;241;43m.\u001b[39;49m\u001b[43m_parent_ident\u001b[49m\u001b[43m[\u001b[49m\u001b[38;5;124;43m\"\u001b[39;49m\u001b[38;5;124;43mshell\u001b[39;49m\u001b[38;5;124;43m\"\u001b[39;49m\u001b[43m]\u001b[49m\u001b[43m,\u001b[49m\n\u001b[1;32m   1285\u001b[0m \u001b[43m    \u001b[49m\u001b[38;5;28;43mself\u001b[39;49m\u001b[38;5;241;43m.\u001b[39;49m\u001b[43mget_parent\u001b[49m\u001b[43m(\u001b[49m\u001b[38;5;124;43m\"\u001b[39;49m\u001b[38;5;124;43mshell\u001b[39;49m\u001b[38;5;124;43m\"\u001b[39;49m\u001b[43m)\u001b[49m\u001b[43m,\u001b[49m\n\u001b[1;32m   1286\u001b[0m \u001b[43m    \u001b[49m\u001b[43mpassword\u001b[49m\u001b[38;5;241;43m=\u001b[39;49m\u001b[38;5;28;43;01mFalse\u001b[39;49;00m\u001b[43m,\u001b[49m\n\u001b[1;32m   1287\u001b[0m \u001b[43m\u001b[49m\u001b[43m)\u001b[49m\n",
      "File \u001b[0;32m/opt/conda/lib/python3.11/site-packages/ipykernel/kernelbase.py:1325\u001b[0m, in \u001b[0;36mKernel._input_request\u001b[0;34m(self, prompt, ident, parent, password)\u001b[0m\n\u001b[1;32m   1322\u001b[0m \u001b[38;5;28;01mexcept\u001b[39;00m \u001b[38;5;167;01mKeyboardInterrupt\u001b[39;00m:\n\u001b[1;32m   1323\u001b[0m     \u001b[38;5;66;03m# re-raise KeyboardInterrupt, to truncate traceback\u001b[39;00m\n\u001b[1;32m   1324\u001b[0m     msg \u001b[38;5;241m=\u001b[39m \u001b[38;5;124m\"\u001b[39m\u001b[38;5;124mInterrupted by user\u001b[39m\u001b[38;5;124m\"\u001b[39m\n\u001b[0;32m-> 1325\u001b[0m     \u001b[38;5;28;01mraise\u001b[39;00m \u001b[38;5;167;01mKeyboardInterrupt\u001b[39;00m(msg) \u001b[38;5;28;01mfrom\u001b[39;00m \u001b[38;5;28;01mNone\u001b[39;00m\n\u001b[1;32m   1326\u001b[0m \u001b[38;5;28;01mexcept\u001b[39;00m \u001b[38;5;167;01mException\u001b[39;00m:\n\u001b[1;32m   1327\u001b[0m     \u001b[38;5;28mself\u001b[39m\u001b[38;5;241m.\u001b[39mlog\u001b[38;5;241m.\u001b[39mwarning(\u001b[38;5;124m\"\u001b[39m\u001b[38;5;124mInvalid Message:\u001b[39m\u001b[38;5;124m\"\u001b[39m, exc_info\u001b[38;5;241m=\u001b[39m\u001b[38;5;28;01mTrue\u001b[39;00m)\n",
      "\u001b[0;31mKeyboardInterrupt\u001b[0m: Interrupted by user"
     ]
    }
   ],
   "source": [
    "from O365 import Account,Message\n",
    "\n",
    "# 使用Azure AD应用程序的客户端ID和密钥进行身份验证\n",
    "credentials = ('ucfnhou@ucl.ac.uk', 'Zzz40119(__UCl')\n",
    "account = Message(credentials)\n",
    "account.authenticate(scopes=['basic', 'message_all'])"
   ]
  },
  {
   "cell_type": "code",
   "execution_count": null,
   "id": "86ae15c1-5801-44e8-ab1f-5f4e0647ca86",
   "metadata": {},
   "outputs": [],
   "source": [
    "\n",
    "\n",
    "# 请求必要的权限\n",
    "if account.authenticate(scopes=['basic', 'message_all']):\n",
    "    print('Authentication successful')\n",
    "\n",
    "    # 获取邮箱对象\n",
    "    mailbox = account.mailbox()\n",
    "\n",
    "    # 发送邮件\n",
    "    message = mailbox.new_message()\n",
    "    message.to.add('recipient@example.com')\n",
    "    message.subject = 'Test Email'\n",
    "    message.body = 'This is a test email sent using Python-o365'\n",
    "    message.send()\n",
    "\n",
    "    # 读取收件箱中的邮件\n",
    "    inbox = mailbox.inbox_folder()\n",
    "    for message in inbox.get_messages(limit=10):\n",
    "        print(f\"Subject: {message.subject}\")\n",
    "        print(f\"From: {message.sender.address}\")\n",
    "        print(f\"Received: {message.received.strftime('%Y-%m-%d %H:%M')}\")\n",
    "        print(\"---\")\n",
    "\n",
    "else:\n",
    "    print('Authentication failed')"
   ]
  }
 ],
 "metadata": {
  "kernelspec": {
   "display_name": "Python (base)",
   "language": "python",
   "name": "base"
  },
  "language_info": {
   "codemirror_mode": {
    "name": "ipython",
    "version": 3
   },
   "file_extension": ".py",
   "mimetype": "text/x-python",
   "name": "python",
   "nbconvert_exporter": "python",
   "pygments_lexer": "ipython3",
   "version": "3.11.9"
  }
 },
 "nbformat": 4,
 "nbformat_minor": 5
}
